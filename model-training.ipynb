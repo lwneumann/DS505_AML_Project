{
 "cells": [
  {
   "cell_type": "markdown",
   "id": "07d4b4c3",
   "metadata": {},
   "source": [
    "# Steam Review Sentiment\n",
    "\n",
    "A machine learning project to predict Steam game ratings (thumbs up/down) using review text and game metadata."
   ]
  },
  {
   "cell_type": "markdown",
   "id": "a5b544aa",
   "metadata": {},
   "source": [
    "# Data Overview TODO\n",
    "\n",
    "- Our data is using 700 rows with 5 features to determine a Steam game rating.\n",
    "- The data was collected through a script we ran on our local machine to pull data from the `/review` endpoint from the Steam API.\n",
    "- When collecting this data, we did not need to perform any initial transformations\n",
    "\n",
    "### Data Descriptions\n",
    "\n",
    "#### Continuous\n",
    "- VotesUp\n",
    "- VotesFunny\n",
    "- PlaytimeTotal\n",
    "- PlaytimeReview\n",
    "- PlaytimeTwoWeeks\n",
    "- NumberofReviews\n",
    "- PostedDate\n",
    "\n",
    "#### Categorical\n",
    "- AppID\n",
    "- GameName\n",
    "- ReviewID\n",
    "- Author\n",
    "- Review\n",
    "- Recommended\n",
    "\n",
    "\n",
    "Just answer the following questions\n",
    "\n",
    "- What is your dependent variable? regression or classification? distribution?\n",
    "- did you need to perform any data exploration, cleaning, transformation?"
   ]
  },
  {
   "cell_type": "markdown",
   "id": "979fd7d3",
   "metadata": {},
   "source": [
    "## Install and Import PyTorch\n",
    "\n",
    "Install PyTorch if not already installed and import the necessary modules."
   ]
  },
  {
   "cell_type": "code",
   "execution_count": 1,
   "id": "fd464aae",
   "metadata": {},
   "outputs": [],
   "source": [
    "# Install PyTorch (uncomment the line below if PyTorch is not installed)\n",
    "# !pip install torch\n",
    "\n",
    "# Import PyTorch\n",
    "import torch\n",
    "import torch.nn as nn\n",
    "import torch.optim as optim"
   ]
  },
  {
   "cell_type": "markdown",
   "id": "fd36d2c7",
   "metadata": {},
   "source": [
    "# Tensors in PyTorch\n",
    "Create and manipulate tensors, including initialization, reshaping, and basic properties."
   ]
  },
  {
   "cell_type": "code",
   "execution_count": 2,
   "id": "92bb85ca",
   "metadata": {},
   "outputs": [
    {
     "name": "stdout",
     "output_type": "stream",
     "text": [
      "Tensor:\n",
      " tensor([[1., 2.],\n",
      "        [3., 4.]])\n",
      "Shape: torch.Size([2, 2])\n",
      "Data type: torch.float32\n",
      "Reshaped Tensor:\n",
      " tensor([[1.],\n",
      "        [2.],\n",
      "        [3.],\n",
      "        [4.]])\n"
     ]
    }
   ],
   "source": [
    "# Create a tensor\n",
    "tensor = torch.tensor([[1, 2], [3, 4]], dtype=torch.float32)\n",
    "\n",
    "# Display tensor properties\n",
    "print(\"Tensor:\\n\", tensor)\n",
    "print(\"Shape:\", tensor.shape)\n",
    "print(\"Data type:\", tensor.dtype)\n",
    "\n",
    "# Reshape the tensor\n",
    "reshaped_tensor = tensor.view(4, 1)\n",
    "print(\"Reshaped Tensor:\\n\", reshaped_tensor)"
   ]
  },
  {
   "cell_type": "markdown",
   "id": "26a73fae",
   "metadata": {},
   "source": [
    "## Training TODO\n",
    "\n",
    "10 pts: perform some thoughtful supervised learning, including engineering and selecting features, selecting\n",
    "and optimizing a model, and explaining your model (coeﬃcients or feature importance, performance). Here\n",
    "are some suggested key points.\n",
    "- feature engineering / selection, bivariate charts? Interactions?\n",
    "- missing data? how to handle it?\n",
    "- Selection of modeling algorithm? classification or regression? binary or multi-class?\n",
    "- interpretation of variable importance, coeﬃcients if applicable\n",
    "- justification of choice of metric (accuracy, precision / recall, other?)\n",
    "- is class weighting or over / under sampling appropriate?\n",
    "- discussion of choice or tuning of hyperparameters, if any\n",
    "- meaningful discussion of predictive power and conclusions from model\n",
    "- look at misclassified examples from test dataset, what do they say about your model?\n",
    "- outliers in data?"
   ]
  },
  {
   "cell_type": "markdown",
   "id": "7b266989",
   "metadata": {},
   "source": [
    "## PCA TODO\n",
    "\n",
    "5 pts: PCA as data exploration and visualization. Here are some suggested key points.\n",
    "- take a look at PCA, percent explained\n",
    "- take a look at top eigenvector or two, what is it made out of?\n",
    "- can you visualize your prediction problem by projecting to 2 dimensions?"
   ]
  },
  {
   "cell_type": "markdown",
   "id": "a861e25f",
   "metadata": {},
   "source": [
    "## K-means and data exploration TODO\n",
    "\n",
    "5 pts: k-means as data exploration and visualization. Here are some suggested key points.\n",
    "- discussion for choosing number of clusters\n",
    "- analysis of cluster centers\n",
    "- scatter plot(s) showing 2 dimensional perspective of clusters and cluster centers?\n",
    "- meaningful interpretation / discussion of conclusions"
   ]
  }
 ],
 "metadata": {
  "kernelspec": {
   "display_name": "venv",
   "language": "python",
   "name": "python3"
  },
  "language_info": {
   "codemirror_mode": {
    "name": "ipython",
    "version": 3
   },
   "file_extension": ".py",
   "mimetype": "text/x-python",
   "name": "python",
   "nbconvert_exporter": "python",
   "pygments_lexer": "ipython3",
   "version": "3.9.10"
  }
 },
 "nbformat": 4,
 "nbformat_minor": 5
}
