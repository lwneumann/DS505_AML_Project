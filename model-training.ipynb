{
 "cells": [
  {
   "cell_type": "markdown",
   "id": "07d4b4c3",
   "metadata": {},
   "source": [
    "# Install and Import PyTorch\n",
    "Install PyTorch if not already installed and import the necessary modules."
   ]
  },
  {
   "cell_type": "code",
   "execution_count": 2,
   "id": "fd464aae",
   "metadata": {},
   "outputs": [],
   "source": [
    "# Install PyTorch (uncomment the line below if PyTorch is not installed)\n",
    "# !pip install torch\n",
    "\n",
    "# Import PyTorch\n",
    "import torch\n",
    "import torch.nn as nn\n",
    "import torch.optim as optim"
   ]
  },
  {
   "cell_type": "markdown",
   "id": "fd36d2c7",
   "metadata": {},
   "source": [
    "# Tensors in PyTorch\n",
    "Create and manipulate tensors, including initialization, reshaping, and basic properties."
   ]
  },
  {
   "cell_type": "code",
   "execution_count": 3,
   "id": "92bb85ca",
   "metadata": {},
   "outputs": [
    {
     "name": "stdout",
     "output_type": "stream",
     "text": [
      "Tensor:\n",
      " tensor([[1., 2.],\n",
      "        [3., 4.]])\n",
      "Shape: torch.Size([2, 2])\n",
      "Data type: torch.float32\n",
      "Reshaped Tensor:\n",
      " tensor([[1.],\n",
      "        [2.],\n",
      "        [3.],\n",
      "        [4.]])\n"
     ]
    }
   ],
   "source": [
    "# Create a tensor\n",
    "tensor = torch.tensor([[1, 2], [3, 4]], dtype=torch.float32)\n",
    "\n",
    "# Display tensor properties\n",
    "print(\"Tensor:\\n\", tensor)\n",
    "print(\"Shape:\", tensor.shape)\n",
    "print(\"Data type:\", tensor.dtype)\n",
    "\n",
    "# Reshape the tensor\n",
    "reshaped_tensor = tensor.view(4, 1)\n",
    "print(\"Reshaped Tensor:\\n\", reshaped_tensor)"
   ]
  }
 ],
 "metadata": {
  "kernelspec": {
   "display_name": "venv",
   "language": "python",
   "name": "python3"
  },
  "language_info": {
   "codemirror_mode": {
    "name": "ipython",
    "version": 3
   },
   "file_extension": ".py",
   "mimetype": "text/x-python",
   "name": "python",
   "nbconvert_exporter": "python",
   "pygments_lexer": "ipython3",
   "version": "3.9.10"
  }
 },
 "nbformat": 4,
 "nbformat_minor": 5
}
